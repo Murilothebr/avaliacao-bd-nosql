{
 "cells": [
  {
   "cell_type": "markdown",
   "id": "b061b4ec",
   "metadata": {},
   "source": [
    "Análise de Vendas"
   ]
  },
  {
   "cell_type": "code",
   "execution_count": 14,
   "id": "b4db14f6",
   "metadata": {},
   "outputs": [],
   "source": [
    "# Importação das bibliotecas\n",
    "import numpy as np\n",
    "import pandas as pd\n",
    "import datetime as dt"
   ]
  },
  {
   "cell_type": "markdown",
   "id": "cba483b3",
   "metadata": {},
   "source": [
    "Fazendo o carregamento do arquivo e as verificações iniciais dos dados."
   ]
  },
  {
   "cell_type": "code",
   "execution_count": 15,
   "id": "9e9a2f84",
   "metadata": {},
   "outputs": [],
   "source": [
    "# Carrega o dataset\n",
    "dados = pd.read_csv('vendas.csv')"
   ]
  },
  {
   "cell_type": "code",
   "execution_count": 16,
   "id": "b2057c0d",
   "metadata": {},
   "outputs": [
    {
     "data": {
      "text/plain": [
       "(9700, 11)"
      ]
     },
     "execution_count": 16,
     "metadata": {},
     "output_type": "execute_result"
    }
   ],
   "source": [
    "# analisando o shape do arquivo\n",
    "dados.shape"
   ]
  },
  {
   "cell_type": "code",
   "execution_count": 17,
   "id": "d2814227",
   "metadata": {
    "scrolled": true
   },
   "outputs": [
    {
     "data": {
      "text/html": [
       "<div>\n",
       "<style scoped>\n",
       "    .dataframe tbody tr th:only-of-type {\n",
       "        vertical-align: middle;\n",
       "    }\n",
       "\n",
       "    .dataframe tbody tr th {\n",
       "        vertical-align: top;\n",
       "    }\n",
       "\n",
       "    .dataframe thead th {\n",
       "        text-align: right;\n",
       "    }\n",
       "</style>\n",
       "<table border=\"1\" class=\"dataframe\">\n",
       "  <thead>\n",
       "    <tr style=\"text-align: right;\">\n",
       "      <th></th>\n",
       "      <th>ID_Pedido</th>\n",
       "      <th>Data_Pedido</th>\n",
       "      <th>ID_Cliente</th>\n",
       "      <th>Segmento</th>\n",
       "      <th>Pais</th>\n",
       "      <th>Cidade</th>\n",
       "      <th>Estado</th>\n",
       "      <th>ID_Produto</th>\n",
       "      <th>Categoria</th>\n",
       "      <th>SubCategoria</th>\n",
       "      <th>Valor_Venda</th>\n",
       "    </tr>\n",
       "  </thead>\n",
       "  <tbody>\n",
       "    <tr>\n",
       "      <th>0</th>\n",
       "      <td>CA-2017-152156</td>\n",
       "      <td>08/11/2017</td>\n",
       "      <td>CG-12520</td>\n",
       "      <td>Consumer</td>\n",
       "      <td>United States</td>\n",
       "      <td>Henderson</td>\n",
       "      <td>Kentucky</td>\n",
       "      <td>FUR-BO-10001798</td>\n",
       "      <td>Furniture</td>\n",
       "      <td>Bookcases</td>\n",
       "      <td>261.9600</td>\n",
       "    </tr>\n",
       "    <tr>\n",
       "      <th>1</th>\n",
       "      <td>CA-2017-152156</td>\n",
       "      <td>08/11/2017</td>\n",
       "      <td>CG-12520</td>\n",
       "      <td>Consumer</td>\n",
       "      <td>United States</td>\n",
       "      <td>Henderson</td>\n",
       "      <td>Kentucky</td>\n",
       "      <td>FUR-CH-10000454</td>\n",
       "      <td>Furniture</td>\n",
       "      <td>Chairs</td>\n",
       "      <td>731.9400</td>\n",
       "    </tr>\n",
       "    <tr>\n",
       "      <th>2</th>\n",
       "      <td>CA-2017-138688</td>\n",
       "      <td>12/06/2017</td>\n",
       "      <td>DV-13045</td>\n",
       "      <td>Corporate</td>\n",
       "      <td>United States</td>\n",
       "      <td>Los Angeles</td>\n",
       "      <td>California</td>\n",
       "      <td>OFF-LA-10000240</td>\n",
       "      <td>Office Supplies</td>\n",
       "      <td>Labels</td>\n",
       "      <td>14.6200</td>\n",
       "    </tr>\n",
       "    <tr>\n",
       "      <th>3</th>\n",
       "      <td>US-2016-108966</td>\n",
       "      <td>11/10/2016</td>\n",
       "      <td>SO-20335</td>\n",
       "      <td>Consumer</td>\n",
       "      <td>United States</td>\n",
       "      <td>Fort Lauderdale</td>\n",
       "      <td>Florida</td>\n",
       "      <td>FUR-TA-10000577</td>\n",
       "      <td>Furniture</td>\n",
       "      <td>Tables</td>\n",
       "      <td>957.5775</td>\n",
       "    </tr>\n",
       "    <tr>\n",
       "      <th>4</th>\n",
       "      <td>US-2016-108966</td>\n",
       "      <td>11/10/2016</td>\n",
       "      <td>SO-20335</td>\n",
       "      <td>Consumer</td>\n",
       "      <td>United States</td>\n",
       "      <td>Fort Lauderdale</td>\n",
       "      <td>Florida</td>\n",
       "      <td>OFF-ST-10000760</td>\n",
       "      <td>Office Supplies</td>\n",
       "      <td>Storage</td>\n",
       "      <td>22368.0000</td>\n",
       "    </tr>\n",
       "  </tbody>\n",
       "</table>\n",
       "</div>"
      ],
      "text/plain": [
       "        ID_Pedido Data_Pedido ID_Cliente   Segmento           Pais  \\\n",
       "0  CA-2017-152156  08/11/2017   CG-12520   Consumer  United States   \n",
       "1  CA-2017-152156  08/11/2017   CG-12520   Consumer  United States   \n",
       "2  CA-2017-138688  12/06/2017   DV-13045  Corporate  United States   \n",
       "3  US-2016-108966  11/10/2016   SO-20335   Consumer  United States   \n",
       "4  US-2016-108966  11/10/2016   SO-20335   Consumer  United States   \n",
       "\n",
       "            Cidade      Estado       ID_Produto        Categoria SubCategoria  \\\n",
       "0        Henderson    Kentucky  FUR-BO-10001798        Furniture    Bookcases   \n",
       "1        Henderson    Kentucky  FUR-CH-10000454        Furniture       Chairs   \n",
       "2      Los Angeles  California  OFF-LA-10000240  Office Supplies       Labels   \n",
       "3  Fort Lauderdale     Florida  FUR-TA-10000577        Furniture       Tables   \n",
       "4  Fort Lauderdale     Florida  OFF-ST-10000760  Office Supplies      Storage   \n",
       "\n",
       "   Valor_Venda  \n",
       "0     261.9600  \n",
       "1     731.9400  \n",
       "2      14.6200  \n",
       "3     957.5775  \n",
       "4   22368.0000  "
      ]
     },
     "execution_count": 17,
     "metadata": {},
     "output_type": "execute_result"
    }
   ],
   "source": [
    "# analisando uma amostra dos dados\n",
    "dados.head()"
   ]
  },
  {
   "cell_type": "code",
   "execution_count": 18,
   "id": "7e4c9a2d",
   "metadata": {},
   "outputs": [
    {
     "name": "stdout",
     "output_type": "stream",
     "text": [
      "<class 'pandas.core.frame.DataFrame'>\n",
      "RangeIndex: 9700 entries, 0 to 9699\n",
      "Data columns (total 11 columns):\n",
      " #   Column        Non-Null Count  Dtype  \n",
      "---  ------        --------------  -----  \n",
      " 0   ID_Pedido     9700 non-null   object \n",
      " 1   Data_Pedido   9700 non-null   object \n",
      " 2   ID_Cliente    9700 non-null   object \n",
      " 3   Segmento      9700 non-null   object \n",
      " 4   Pais          9700 non-null   object \n",
      " 5   Cidade        9700 non-null   object \n",
      " 6   Estado        9700 non-null   object \n",
      " 7   ID_Produto    9700 non-null   object \n",
      " 8   Categoria     9700 non-null   object \n",
      " 9   SubCategoria  9700 non-null   object \n",
      " 10  Valor_Venda   9700 non-null   float64\n",
      "dtypes: float64(1), object(10)\n",
      "memory usage: 833.7+ KB\n"
     ]
    }
   ],
   "source": [
    "# Colunas do conjunto de dados\n",
    "dados.info()"
   ]
  },
  {
   "cell_type": "code",
   "execution_count": 19,
   "id": "eec70bba",
   "metadata": {},
   "outputs": [
    {
     "data": {
      "text/plain": [
       "count    9.700000e+03\n",
       "mean     8.352892e+04\n",
       "std      3.327765e+05\n",
       "min      9.900000e-01\n",
       "25%      3.990000e+01\n",
       "50%      3.516800e+02\n",
       "75%      2.403600e+04\n",
       "max      1.119997e+07\n",
       "Name: Valor_Venda, dtype: float64"
      ]
     },
     "execution_count": 19,
     "metadata": {},
     "output_type": "execute_result"
    }
   ],
   "source": [
    "# Resumo estatístico da coluna valor de venda\n",
    "dados['Valor_Venda'].describe()"
   ]
  },
  {
   "cell_type": "code",
   "execution_count": 20,
   "id": "b8165a80",
   "metadata": {},
   "outputs": [
    {
     "data": {
      "text/html": [
       "<div>\n",
       "<style scoped>\n",
       "    .dataframe tbody tr th:only-of-type {\n",
       "        vertical-align: middle;\n",
       "    }\n",
       "\n",
       "    .dataframe tbody tr th {\n",
       "        vertical-align: top;\n",
       "    }\n",
       "\n",
       "    .dataframe thead th {\n",
       "        text-align: right;\n",
       "    }\n",
       "</style>\n",
       "<table border=\"1\" class=\"dataframe\">\n",
       "  <thead>\n",
       "    <tr style=\"text-align: right;\">\n",
       "      <th></th>\n",
       "      <th>ID_Pedido</th>\n",
       "      <th>Data_Pedido</th>\n",
       "      <th>ID_Cliente</th>\n",
       "      <th>Segmento</th>\n",
       "      <th>Pais</th>\n",
       "      <th>Cidade</th>\n",
       "      <th>Estado</th>\n",
       "      <th>ID_Produto</th>\n",
       "      <th>Categoria</th>\n",
       "      <th>SubCategoria</th>\n",
       "      <th>Valor_Venda</th>\n",
       "    </tr>\n",
       "  </thead>\n",
       "  <tbody>\n",
       "  </tbody>\n",
       "</table>\n",
       "</div>"
      ],
      "text/plain": [
       "Empty DataFrame\n",
       "Columns: [ID_Pedido, Data_Pedido, ID_Cliente, Segmento, Pais, Cidade, Estado, ID_Produto, Categoria, SubCategoria, Valor_Venda]\n",
       "Index: []"
      ]
     },
     "execution_count": 20,
     "metadata": {},
     "output_type": "execute_result"
    }
   ],
   "source": [
    "# Verificando se há registros duplicados. No caso não existem\n",
    "dados[dados.duplicated()]"
   ]
  },
  {
   "cell_type": "code",
   "execution_count": 22,
   "id": "936d1045",
   "metadata": {},
   "outputs": [
    {
     "data": {
      "text/plain": [
       "ID_Pedido       0\n",
       "Data_Pedido     0\n",
       "ID_Cliente      0\n",
       "Segmento        0\n",
       "Pais            0\n",
       "Cidade          0\n",
       "Estado          0\n",
       "ID_Produto      0\n",
       "Categoria       0\n",
       "SubCategoria    0\n",
       "Valor_Venda     0\n",
       "dtype: int64"
      ]
     },
     "execution_count": 22,
     "metadata": {},
     "output_type": "execute_result"
    }
   ],
   "source": [
    "# Verificando quantos valores ausentes existem em cada coluna. No caso nenhum\n",
    "dados.isnull().sum()"
   ]
  },
  {
   "cell_type": "markdown",
   "id": "78c23315",
   "metadata": {},
   "source": [
    "## Pergunta de Negócio 1 (nível easy):\n",
    "\n",
    "### Qual cidade onde foi feito o maior faturamento com vendas de produtos da categoria 'Office Supplies'?"
   ]
  },
  {
   "cell_type": "code",
   "execution_count": null,
   "id": "69296d71",
   "metadata": {},
   "outputs": [],
   "source": []
  },
  {
   "cell_type": "code",
   "execution_count": null,
   "id": "3faec6b2",
   "metadata": {},
   "outputs": [],
   "source": []
  },
  {
   "cell_type": "code",
   "execution_count": null,
   "id": "dc18e543",
   "metadata": {},
   "outputs": [],
   "source": []
  },
  {
   "cell_type": "markdown",
   "id": "b2257a7b",
   "metadata": {},
   "source": [
    "## Pergunta de Negócio 2 (nível easy):\n",
    "\n",
    "### Qual o total de vendas segmentado por dia (data do pedido)?"
   ]
  },
  {
   "cell_type": "code",
   "execution_count": null,
   "id": "df6ed996",
   "metadata": {},
   "outputs": [],
   "source": []
  },
  {
   "cell_type": "code",
   "execution_count": null,
   "id": "c5c7c4b1",
   "metadata": {},
   "outputs": [],
   "source": []
  },
  {
   "cell_type": "markdown",
   "id": "2c27a9db",
   "metadata": {},
   "source": [
    "## Pergunta de Negócio 3 (nível easy):\n",
    "\n",
    "### Qual o total de vendas por estado?"
   ]
  },
  {
   "cell_type": "code",
   "execution_count": null,
   "id": "2187c6b6",
   "metadata": {},
   "outputs": [],
   "source": []
  },
  {
   "cell_type": "markdown",
   "id": "ac63cfc4",
   "metadata": {},
   "source": [
    "## Pergunta de Negócio 4 (Nível easy):\n",
    "\n",
    "### Quais são as 10 cidades onde a loja teve maior faturamento em vendas?"
   ]
  },
  {
   "cell_type": "code",
   "execution_count": null,
   "id": "042ef540",
   "metadata": {},
   "outputs": [],
   "source": []
  },
  {
   "cell_type": "markdown",
   "id": "4831dc06",
   "metadata": {},
   "source": [
    "## Pergunta de Negócio 5 (nível médio):\n",
    "\n",
    "### Qual cliente da cidade de Los Angeles geral mais faturamento (gastou mais dinheiro na loja)?"
   ]
  },
  {
   "cell_type": "code",
   "execution_count": null,
   "id": "70c90a68",
   "metadata": {},
   "outputs": [],
   "source": []
  },
  {
   "cell_type": "markdown",
   "id": "8eb0ea56",
   "metadata": {},
   "source": [
    "## Pergunta de Negócio 6 (Nível médio):\n",
    "\n",
    "### Qual o total de vendas por Segmento e por ano?"
   ]
  },
  {
   "cell_type": "code",
   "execution_count": null,
   "id": "14f10869",
   "metadata": {},
   "outputs": [],
   "source": []
  },
  {
   "cell_type": "code",
   "execution_count": null,
   "id": "2e9bc1ea",
   "metadata": {},
   "outputs": [],
   "source": []
  },
  {
   "cell_type": "code",
   "execution_count": null,
   "id": "df107149",
   "metadata": {},
   "outputs": [],
   "source": []
  },
  {
   "cell_type": "code",
   "execution_count": null,
   "id": "bd908319",
   "metadata": {},
   "outputs": [],
   "source": []
  },
  {
   "cell_type": "code",
   "execution_count": null,
   "id": "ffd16a62",
   "metadata": {},
   "outputs": [],
   "source": []
  },
  {
   "cell_type": "markdown",
   "id": "56fbe644",
   "metadata": {},
   "source": [
    "## Pergunta de Negócio 7 (Nível Rambo):\n",
    "\n",
    "Os gestores da empresa estão pensando em considerar oferecer descontos conforme o valor dos pedidos. Basicamente, pedidos inferiores a 1000 teriam desconto de 10% e acima deste valor um desconto de 15%. Desta forma, considerando os dados que temos, eles gostariam de fazer uma simulação, para ter ideia de quantos pedidos receberiam os desconto de 15%.\n",
    "\n",
    "### Quantas vendas receberiam desconto de 10% e de 15% seguindo esta regra?"
   ]
  },
  {
   "cell_type": "code",
   "execution_count": null,
   "id": "62b9b1c7",
   "metadata": {},
   "outputs": [],
   "source": []
  },
  {
   "cell_type": "code",
   "execution_count": null,
   "id": "41833407",
   "metadata": {},
   "outputs": [],
   "source": []
  },
  {
   "cell_type": "code",
   "execution_count": null,
   "id": "03e36cd3",
   "metadata": {},
   "outputs": [],
   "source": []
  },
  {
   "cell_type": "code",
   "execution_count": null,
   "id": "d963796c",
   "metadata": {},
   "outputs": [],
   "source": []
  },
  {
   "cell_type": "markdown",
   "id": "f313c42a",
   "metadata": {},
   "source": [
    "## Pergunta de Negócio 8 (Nível Verdão):\n",
    "\n",
    "### Considerando que a empresa decida oferecer os descontos (de 10% ou 15%) citados na questão anterior. Qual seria a queda percentual no faturamento da empresa?"
   ]
  },
  {
   "cell_type": "code",
   "execution_count": null,
   "id": "47b8f2a4",
   "metadata": {},
   "outputs": [],
   "source": []
  },
  {
   "cell_type": "code",
   "execution_count": null,
   "id": "98bd7542",
   "metadata": {},
   "outputs": [],
   "source": []
  },
  {
   "cell_type": "code",
   "execution_count": null,
   "id": "acf5a2a9",
   "metadata": {},
   "outputs": [],
   "source": []
  }
 ],
 "metadata": {
  "kernelspec": {
   "display_name": "Python 3 (ipykernel)",
   "language": "python",
   "name": "python3"
  },
  "language_info": {
   "codemirror_mode": {
    "name": "ipython",
    "version": 3
   },
   "file_extension": ".py",
   "mimetype": "text/x-python",
   "name": "python",
   "nbconvert_exporter": "python",
   "pygments_lexer": "ipython3",
   "version": "3.12.2"
  }
 },
 "nbformat": 4,
 "nbformat_minor": 5
}
